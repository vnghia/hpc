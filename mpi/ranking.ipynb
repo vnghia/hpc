{
 "cells": [
  {
   "cell_type": "markdown",
   "metadata": {},
   "source": [
    "## 4GMM - HPC - 2021-22 \n",
    "### F. Couderc, L. Giraud\n",
    "\n",
    "***\n",
    "\n",
    "# MPI parallelization and optimization of the Google PageRank problem\n",
    "\n",
    "We will focus in this work on the optimization and parallelization of the Google PageRank problem, which consists in searching for the eigenvector associated with the highest eigenvalue of 1 of the stochastic matrix linking the web pages together.\n",
    "\n",
    "## Introduction\n",
    "PageRank (PR) is an algorithm used by Google Search to rank web pages in their search engine results. It is not the only algorithm used by Google to order search results, but it is the first algorithm that was used by the company, and it is the best known. The fundamental idea put forth by PageRank’s creators, Sergey Brin and Lawrence Page, is this: the importance of a page is judged by the number of pages linking to it as well as their importance.\n",
    "\n",
    "We will assign to each web page $P$ a measure of its importance $I(P)$,\n",
    "called the page's PageRank. Suppose that page $P_{i}$ has $\\ell_{i}$\n",
    "links. If one of those links is to page $P_{j}$, then $P_{i}$ will\n",
    "pass on $1/\\ell_{i}$ of its importance to $P_{j}$. The importance\n",
    "ranking of $P_{j}$ is then the sum of all the contributions made\n",
    "by pages linking to it. That is, if we denote the set of pages linking\n",
    "to $P_{j}$ by $B_{j}$,\n",
    "$$\n",
    "I(P_{j})={\\displaystyle \\sum_{P_{i}\\in B_{j}}\\frac{I(P_{i})}{\\ell_{i}},}\n",
    "$$\n",
    "and we first need to know the importance of all the pages linking\n",
    "to it. However, we may recast the problem into one that is more mathematically\n",
    "familiar. Let's first create a matrix, called the hyperlink matrix,\n",
    "${\\bf H}=[H_{ij}]$ in which the entry in the ith row and jth column\n",
    "is\n",
    "\n",
    "$$\n",
    "H_{ij}=\\left\\{ \\begin{array}{ll}\n",
    "1/{\\ell}_{i} & \\text{if}\\;P_{i}\\in B_{j}\\\\\n",
    "0 & \\text{otherwise}\n",
    "\\end{array}\\right..\n",
    "$$\n",
    "\n",
    "![network](img/network.png)\n",
    "\n",
    "Then, the corresponding matrix to the figure above is\n",
    "\n",
    "$$\n",
    "\\mathbf{H}=\\left(\\begin{array}{cccccccc}\n",
    "0 & 1/2 & 1/2 & 0 & 0 & 0 & 0 & 0\\\\\n",
    "0 & 0 & 0 & 1 & 0 & 0 & 0 & 0\\\\\n",
    "0 & 1/2 & 0 & 0 & 1/2 & 0 & 0 & 0\\\\\n",
    "0 & 1/3 & 0 & 0 & 1/3 & 1/3 & 0 & 0\\\\\n",
    "0 & 0 & 0 & 0 & 0 & 1/3 & 1/3 & 1/3\\\\\n",
    "0 & 0 & 0 & 0 & 0 & 0 & 0 & 1\\\\\n",
    "1/3 & 0 & 0 & 0 & 1/3 & 0 & 0 & 1/3\\\\\n",
    "0 & 0 & 0 & 0 & 0 & 1/2 & 1/2 & 0\n",
    "\\end{array}\\right)\n",
    "$$\n",
    "\n",
    "Notice that $\\mathbf{H}$ has some special properties. First, its\n",
    "entries are all nonnegative. Also, the sum of the entries in a row\n",
    "is one unless the page corresponding to that row has no links. We\n",
    "will also form a vector $I=[I(P_{i})]$ whose components are PageRanks.\n",
    "The condition above defining the PageRank may be expressed as\n",
    "\n",
    "$$\n",
    "\\pi^{T}=\\pi^{T}{\\bf H}\n",
    "$$\n",
    "\n",
    "In other words, the vector $\\pi$ is an eigenvector of the matrix\n",
    "$\\mathbf{H}^{T}$ with eigenvalue 1. We also call this a *stationary\n",
    "vector* of $\\mathbf{H}$. The solution of the problem\n",
    "is\n",
    "\n",
    "$$\n",
    "\\pi=\\left(\\begin{array}{cccccccc}\n",
    "%0,0600 & 0,0675 & 0,0300 & 0,0675 & 0,0975 & 0,2025 & 0,1800 & 0,2950\\end{array}\\right)^{T}\n",
    "0.14  & 0.158 & 0.07  & 0.158 & 0.228 & 0.473 & 0.42  & 0.689\\end{array}\\right)^{T}\n",
    "$$"
   ]
  },
  {
   "cell_type": "code",
   "execution_count": 1,
   "metadata": {
    "tags": [
     "init-notebook"
    ]
   },
   "outputs": [
    {
     "name": "stdout",
     "output_type": "stream",
     "text": [
      "[[0.    0.5   0.5   0.    0.    0.    0.    0.   ]\n",
      " [0.    0.    0.    1.    0.    0.    0.    0.   ]\n",
      " [0.    0.5   0.    0.    0.5   0.    0.    0.   ]\n",
      " [0.    0.333 0.    0.    0.333 0.333 0.    0.   ]\n",
      " [0.    0.    0.    0.    0.    0.333 0.333 0.333]\n",
      " [0.    0.    0.    0.    0.    0.    0.    1.   ]\n",
      " [0.333 0.    0.    0.    0.333 0.    0.    0.333]\n",
      " [0.    0.    0.    0.    0.    0.5   0.5   0.   ]]\n"
     ]
    }
   ],
   "source": [
    "import functools\n",
    "import os\n",
    "import sys\n",
    "import time\n",
    "\n",
    "import matplotlib.pyplot as plt\n",
    "import numpy as np\n",
    "import scipy.sparse as ssp\n",
    "from mpi4py import MPI\n",
    "\n",
    "# Some options\n",
    "os.environ[\"OMP_NUM_THREADS\"] = \"1\"\n",
    "os.environ[\"NUMEXPR_NUM_THREADS\"] = \"1\"\n",
    "os.environ[\"MKL_NUM_THREADS\"] = \"1\"\n",
    "np.set_printoptions(precision=3)\n",
    "\n",
    "# Matrix to be tested\n",
    "def init_H_ex():\n",
    "    H = ssp.lil_matrix((8, 8), dtype=np.float64)\n",
    "    H[0, 1] = 1.0 / 2.0\n",
    "    H[0, 2] = 1.0 / 2.0\n",
    "    H[1, 3] = 1.0\n",
    "    H[2, 1] = 1.0 / 2.0\n",
    "    H[2, 4] = 1.0 / 2.0\n",
    "    H[3, 1] = 1.0 / 3.0\n",
    "    H[3, 4] = 1.0 / 3.0\n",
    "    H[3, 5] = 1.0 / 3.0\n",
    "    H[4, 5] = 1.0 / 3.0\n",
    "    H[4, 6] = 1.0 / 3.0\n",
    "    H[4, 7] = 1.0 / 3.0\n",
    "    H[5, 7] = 1.0\n",
    "    H[6, 0] = 1.0 / 3.0\n",
    "    H[6, 4] = 1.0 / 3.0\n",
    "    H[6, 7] = 1.0 / 3.0\n",
    "    H[7, 5] = 1.0 / 2.0\n",
    "    H[7, 6] = 1.0 / 2.0\n",
    "    return H.tocsr()\n",
    "\n",
    "\n",
    "H = init_H_ex()\n",
    "print(H.todense())\n",
    "\n",
    "# To plot the result of the Google Page Rank problem\n",
    "def plt_sol(A, v):\n",
    "    fig = plt.figure()\n",
    "    ax = fig.add_axes([0, 0, 1, 1])\n",
    "    ax.bar(np.arange(A.shape[0], dtype=int), np.abs(v.real))\n",
    "    ax.set_xlabel(\"Eigenvector entries\")\n",
    "    ax.set_ylabel(\"Scores\")\n",
    "    ax.set_title(\"Google Page Rank problem\")\n",
    "    plt.grid()\n",
    "    plt.show()\n"
   ]
  },
  {
   "cell_type": "markdown",
   "metadata": {},
   "source": [
    "## Exercice 1\n",
    "  1. Compute the eigenvalues of $H^T$, what is the largest one ? Can you prove it using classical linear algebra arguments ?\n",
    "  2. Compute the eigenvector associated with the largest eigenvalue. How can you exploit this vector to define the page ranking: what is most meaningful page for the search ?"
   ]
  },
  {
   "cell_type": "code",
   "execution_count": 2,
   "metadata": {
    "tags": [
     "eigs"
    ]
   },
   "outputs": [
    {
     "name": "stdout",
     "output_type": "stream",
     "text": [
      "Largest eigenvalue  0.9999999999999992\n",
      "Associated eigenvector  [0.14  0.158 0.07  0.158 0.228 0.473 0.42  0.689]\n"
     ]
    },
    {
     "data": {
      "image/png": "[encoded data removed]",
      "text/plain": [
       "<Figure size 432x288 with 1 Axes>"
      ]
     },
     "metadata": {
      "needs_background": "light"
     },
     "output_type": "display_data"
    }
   ],
   "source": [
    "from scipy.sparse.linalg import eigs\n",
    "\n",
    "vals, vecs = eigs(H.T)\n",
    "val, vec = vals[0].real, vecs[:, 0].real\n",
    "\n",
    "print(\"Largest eigenvalue \", val)\n",
    "print(\"Associated eigenvector \", vec)\n",
    "\n",
    "plt_sol(H, vec)\n"
   ]
  },
  {
   "cell_type": "markdown",
   "metadata": {},
   "source": [
    "On can find the solution of this problem using the power iteration\n",
    "method defined below\n",
    "1. Set  $u=random$ and  $u=u/\\Vert u\\Vert$\n",
    "2. WHILE{$\\left\\Vert u-v\\right\\Vert >\\epsilon$} \n",
    "3. $\\quad$ Compute $v=\\mathbf{G}^{T}u$\n",
    "3. $\\quad$ Define $\\lambda=u^{T}v$ and $u=v/\\Vert v\\Vert$\n",
    "4. ENDWHILE\n",
    "\n",
    "## Exercice 2\n",
    " - Complete the power iteration algorithm in the next cell\n",
    "   1. validate your implementation first on a diagonal matrix\n",
    "   1. check that you get the \"same\" eigenpairs as the eigs function\n",
    "\n"
   ]
  },
  {
   "cell_type": "markdown",
   "metadata": {},
   "source": [
    "### First define a few functions"
   ]
  },
  {
   "cell_type": "code",
   "execution_count": 3,
   "metadata": {
    "tags": [
     "norm1-norm2-dot-product"
    ]
   },
   "outputs": [],
   "source": [
    "# Define few functions that will be usefull for the power method implementation\n",
    "\n",
    "\n",
    "def norm1(u):\n",
    "    # compute the 1-norm of the input vector u\n",
    "    return np.sum(np.abs(u))\n",
    "\n",
    "\n",
    "def norm2(u):\n",
    "    # compute the 2-norm of the input vector u\n",
    "    return np.sqrt(u.dot(u))\n",
    "\n",
    "\n",
    "def dot_product(u, v):\n",
    "    # compute the scalar product of the two input vectors u and v\n",
    "    return u.dot(v)\n"
   ]
  },
  {
   "cell_type": "markdown",
   "metadata": {},
   "source": [
    "### Next define the power iteration function which first parameter is the function computing the matrix-vector product"
   ]
  },
  {
   "cell_type": "code",
   "execution_count": 4,
   "metadata": {
    "tags": [
     "power-iteration-method-base"
    ]
   },
   "outputs": [
    {
     "name": "stdout",
     "output_type": "stream",
     "text": [
      "number of iterations =  60\n",
      "residual = 8.17e-09\n",
      "eigenvalue = 4.000000e+00\n",
      "eigenvector = [8.306e-37 1.390e-18 2.452e-08 1.000e+00]\n",
      "highest pagerank = 3\n",
      "Computational time = 0.003381967544555664\n",
      "number of iterations = 115\n",
      "residual = 9.04e-09\n",
      "eigenvalue = 1.000000e+00\n",
      "eigenvector = [0.14  0.158 0.07  0.158 0.228 0.473 0.42  0.689]\n",
      "highest pagerank = 7\n",
      "Computational time = 0.004458904266357422\n"
     ]
    },
    {
     "data": {
      "image/png": "[encoded data removed]",
      "text/plain": [
       "<Figure size 432x288 with 1 Axes>"
      ]
     },
     "metadata": {
      "needs_background": "light"
     },
     "output_type": "display_data"
    }
   ],
   "source": [
    "# Power Iteration Method\n",
    "def power_iteration(matvec, G, u, v, tol=1e-8, itmax=200):\n",
    "    t = time.time()\n",
    "    it = 0\n",
    "    diff_norm = 2 * tol\n",
    "    while it < itmax and diff_norm > tol:\n",
    "        v = matvec(G, u)\n",
    "        l = dot_product(u, v)\n",
    "        v = (1 / norm2(v)) * v\n",
    "        diff_norm = norm2(u - v)\n",
    "        u = v\n",
    "        it += 1\n",
    "    print(\"number of iterations = %3d\" % it)\n",
    "    print(\"residual = %7.2e\" % diff_norm)\n",
    "    print(\"eigenvalue = %11.6e\" % l)\n",
    "    print(f\"eigenvector = {u}\")\n",
    "    print(f\"highest pagerank = {np.argmax(u)}\")\n",
    "    print(f\"Computational time = {time.time() - t}\")\n",
    "    return l, v\n",
    "\n",
    "\n",
    "# For testing purpose define a digonal matrix so that its eigenvalues are known\n",
    "A = np.diag([1, 2, 3, 4])\n",
    "\n",
    "# Initialize the variables\n",
    "n = A.shape[0]\n",
    "u = np.random.uniform(0, 1, n)\n",
    "v = np.zeros(n)\n",
    "\n",
    "# Define a function that perform the matrix vector product (will be used as input parameter)\n",
    "def matvec(A, x):\n",
    "    return A @ x\n",
    "\n",
    "\n",
    "# Call the power iteration method\n",
    "l, u = power_iteration(matvec, A, u, v)\n",
    "\n",
    "# Initialize the variables\n",
    "n = H.shape[0]\n",
    "u = np.random.uniform(0, 1, n)\n",
    "v = np.zeros(n)\n",
    "\n",
    "l, u = power_iteration(matvec, H.T, u, v)\n",
    "np.testing.assert_almost_equal(l, 1)\n",
    "np.testing.assert_almost_equal(u, vec)\n",
    "\n",
    "# Display the result in a bar plot\n",
    "plt_sol(H, u)\n"
   ]
  },
  {
   "cell_type": "markdown",
   "metadata": {},
   "source": [
    "In general there is no guarantee that the algorithm will work.\n",
    "First, it is very likely that there are pages that are not linked\n",
    "to any other page, what it is called **dangling** nodes. \n",
    "Such a node gives rise to zero row in the hyperling matrix that is not longer stochastic.\n",
    "It is corrected introducing a *random surfer* for these pages, linking\n",
    "them to all other pages. The same phenomenon happens for a cluster\n",
    "of pages, the original matrix is then balanced with a scaling parameter\n",
    "$\\alpha$ with a global *random surfer matrix* to finally obtain\n",
    "the so-called Google matrix\n",
    "\n",
    "$$\n",
    "\\mathbf{G}=\\alpha(\\mathbf{H}+1/n\\mathbf{d}\\mathbf{e}^{T})+(1\\text{−}\\alpha)1/n\\mathbf{e}\\mathbf{e}^{T}\n",
    "$$\n",
    "\n",
    "where,\n",
    " - $\\mathbf{H}$ is a very sparse hyperlink matrix.\n",
    " - $\\alpha$ is a scaling parameter between 0 and 1 (generally set at\n",
    "the “magic” value of $0.85$).\n",
    " - $\\mathbf{a}^{T}$ is the binary dangling node row vector ($a_{i}$\n",
    "= 1 if page $i$ is a dangling node and 0 otherwise).\n",
    " - $\\mathbf{e}^{T}$ is the row vector of all entries 1.\n",
    " \n",
    "--- \n",
    "\n",
    "## Exercice 3\n",
    " 1. Show the matrix $\\mathbf{G}$ is stochastic.\n",
    " 1. Compute the Google matrix in dense format and compute its page ranking."
   ]
  },
  {
   "cell_type": "code",
   "execution_count": 5,
   "metadata": {
    "tags": [
     "google-matrix"
    ]
   },
   "outputs": [
    {
     "name": "stdout",
     "output_type": "stream",
     "text": [
      "number of iterations =  59\n",
      "residual = 8.02e-09\n",
      "eigenvalue = 1.000000e+00\n",
      "eigenvector = [0.159 0.233 0.115 0.245 0.277 0.464 0.394 0.632]\n",
      "highest pagerank = 7\n",
      "Computational time = 0.001528024673461914\n"
     ]
    },
    {
     "data": {
      "image/png": "[encoded data removed]",
      "text/plain": [
       "<Figure size 432x288 with 1 Axes>"
      ]
     },
     "metadata": {
      "needs_background": "light"
     },
     "output_type": "display_data"
    }
   ],
   "source": [
    "# Define a function that return the vector index of the dangling nodes\n",
    "def dangling_nodes(H):\n",
    "    return np.where(np.sum(H, axis=1).A1 == 0.0, 1.0, 0.0)\n",
    "\n",
    "\n",
    "# Define the Google matrix in dense format\n",
    "def google_matrix_dense(M, alpha=0.85):\n",
    "    d = dangling_nodes(M)\n",
    "    n = np.shape(M)[0]\n",
    "    e = np.ones(n)\n",
    "    return alpha * M.A + alpha / n * np.outer(d, e) + (1 - alpha) / n * np.outer(e, e)\n",
    "\n",
    "\n",
    "# Compute it largest eigenvalue and associated eigenvector\n",
    "Gdense = google_matrix_dense(H)\n",
    "\n",
    "u = np.random.uniform(0, 1, n)\n",
    "v = np.zeros(n)\n",
    "\n",
    "l, u = power_iteration(matvec, Gdense.T, u, v)\n",
    "np.testing.assert_almost_equal(l, 1)\n",
    "\n",
    "# Display the result in a bar plot\n",
    "plt_sol(Gdense, u)\n"
   ]
  },
  {
   "cell_type": "markdown",
   "metadata": {},
   "source": [
    "## Exercice 4\n",
    "\n",
    "- A program **norms_mpi.py** is provided, finish to write the MPI routines to perform the distributed computations of 1-2 norms as the dot product.\n",
    "- A program **matvec_mpi** is provided, finish to write the MPI routine to perform the distributed matrix/vector product.\n",
    "- With the use of the MPI parallelized computations of norms and matrix/vector product, write a program from provided **pagerank_dense.py** to parallelize the power iteration method.\n",
    "\n",
    "These matrices provided in numpy npz binary format will be used to test the final program:"
   ]
  },
  {
   "cell_type": "code",
   "execution_count": 6,
   "metadata": {
    "tags": [
     "H-load-npz"
    ]
   },
   "outputs": [],
   "source": [
    "def init_H(p=1):\n",
    "    if p == 1:\n",
    "        return ssp.load_npz(\"random10.npz\")\n",
    "    elif p == 2:\n",
    "        return ssp.load_npz(\"random100.npz\")\n",
    "    elif p == 3:\n",
    "        return ssp.load_npz(\"random1000.npz\")\n",
    "    elif p == 4:\n",
    "        return ssp.load_npz(\"random10000.npz\")\n",
    "    else:\n",
    "        return ssp.load_npz(\"ucam2006.npz\")\n"
   ]
  },
  {
   "cell_type": "markdown",
   "metadata": {},
   "source": [
    "## Exercice 5\n",
    "\n",
    "\n",
    "It is requested to use the structure of the $\\mathbf{G}$ matrix to reduce the resolution to a sparse problem, greatly reducing the number of floating point operations required. Rewrite the given power iteration method by introducing a sparse matrix/vector product of the matrix $\\mathbf{H}$ with the vector $u$ and some additional dot product by exploiting the nature of the matrices $\\mathbf{a}\\mathbf{e}^{T}$ and $\\mathbf{e}\\mathbf{e}^{T}$ of rank 1."
   ]
  },
  {
   "cell_type": "code",
   "execution_count": 7,
   "metadata": {
    "tags": [
     "matvec-sparse-base"
    ]
   },
   "outputs": [
    {
     "name": "stdout",
     "output_type": "stream",
     "text": [
      "number of iterations =  57\n",
      "residual = 9.36e-09\n",
      "eigenvalue = 1.000000e+00\n",
      "eigenvector = [0.159 0.233 0.115 0.245 0.277 0.464 0.394 0.632]\n",
      "highest pagerank = 7\n",
      "Computational time = 0.004273891448974609\n"
     ]
    },
    {
     "data": {
      "image/png": "[encoded data removed]",
      "text/plain": [
       "<Figure size 432x288 with 1 Axes>"
      ]
     },
     "metadata": {
      "needs_background": "light"
     },
     "output_type": "display_data"
    }
   ],
   "source": [
    "# Define a function that perform a matrix vector product using the Google matrix using sparsity\n",
    "def matvec_sparse(M, x, d, alpha=0.85):\n",
    "    m, n = np.shape(M)\n",
    "    e = np.ones(m)\n",
    "    return (\n",
    "        alpha * M.dot(x)\n",
    "        + alpha / n * d.dot(x)\n",
    "        + (1 - alpha) / n * e.dot(x)\n",
    "    )\n",
    "\n",
    "\n",
    "u = np.random.uniform(0, 1, n)\n",
    "v = np.zeros(n)\n",
    "\n",
    "d = dangling_nodes(H)\n",
    "\n",
    "l, u = power_iteration(functools.partial(matvec_sparse, d=d), H.T, u, v)\n",
    "np.testing.assert_almost_equal(l, 1)\n",
    "\n",
    "# Display the result in a bar plot\n",
    "plt_sol(Gdense, u)\n"
   ]
  },
  {
   "cell_type": "markdown",
   "metadata": {},
   "source": [
    "## Exercice 6\n",
    "\n",
    "the use of the MPI parallelized computations of norms and matrix/vector product, write a program from provided **pagerank_sparse.py** to parallelize the power iteration method."
   ]
  },
  {
   "cell_type": "markdown",
   "metadata": {},
   "source": [
    "## Exercice 7\n",
    "Let consider the matrix\n",
    "$$\\mathbf{B^{T}}=\\left(\\begin{array}{lll|lll|lll}\n",
    " & 1/2 & 1/3 & 1/3 & 1/3 & 1/3 & 1/3 & 1/3 & 1/2\\\\\n",
    "1/8 &  & 1/3 &  &  & \\\\\n",
    "1/8 & 1/2 &  & 1/3 &  & \\\\\n",
    "\\hline 1/8 &  & 1/3 &  & 1/3 & \\\\\n",
    "1/8 &  &  & 1/3 &  & 1/3\\\\\n",
    "1/8 &  &  &  & 1/3 &  & 1/3\\\\\n",
    "\\hline 1/8 &  &  &  &  & 1/3 &  & 1/3\\\\\n",
    "1/8 &  &  &  &  &  & 1/3 &  & 1/2\\\\\n",
    "1/8 &  &  &  &  &  &  & 1/3\n",
    "\\end{array}\\right).\n",
    "$$\n",
    " - Is the matrix stochastic ?\n",
    " - What is the graph associated with it ? Does it have dangling nodes ?\n",
    " - What is the node with the highest rank ?\n",
    " - Compute the dominant eigenvector to assess your guess."
   ]
  },
  {
   "cell_type": "code",
   "execution_count": 8,
   "metadata": {
    "tags": [
     "B-sparse"
    ]
   },
   "outputs": [
    {
     "name": "stdout",
     "output_type": "stream",
     "text": [
      "[[0.    0.5   0.333 0.333 0.333 0.333 0.333 0.333 0.5  ]\n",
      " [0.125 0.    0.333 0.    0.    0.    0.    0.    0.   ]\n",
      " [0.125 0.5   0.    0.333 0.    0.    0.    0.    0.   ]\n",
      " [0.125 0.    0.333 0.    0.333 0.    0.    0.    0.   ]\n",
      " [0.125 0.    0.    0.333 0.    0.333 0.    0.    0.   ]\n",
      " [0.125 0.    0.    0.    0.333 0.    0.333 0.    0.   ]\n",
      " [0.125 0.    0.    0.    0.    0.333 0.    0.333 0.   ]\n",
      " [0.125 0.    0.    0.    0.    0.    0.333 0.    0.5  ]\n",
      " [0.125 0.    0.    0.    0.    0.    0.    0.333 0.   ]]\n",
      "number of iterations =  41\n",
      "residual = 7.24e-09\n",
      "eigenvalue = 1.000000e+00\n",
      "eigenvector = [0.713 0.178 0.267 0.267 0.267 0.267 0.267 0.267 0.178]\n",
      "highest pagerank = 0\n",
      "Computational time = 0.0020852088928222656\n"
     ]
    },
    {
     "data": {
      "image/png": "[encoded data removed]",
      "text/plain": [
       "<Figure size 432x288 with 1 Axes>"
      ]
     },
     "metadata": {
      "needs_background": "light"
     },
     "output_type": "display_data"
    }
   ],
   "source": [
    "def init_B(n):\n",
    "    # Setup the matrix define above for any size n\n",
    "    B = ssp.lil_matrix((n, n), dtype=np.float64)\n",
    "    B.setdiag(np.ones(n - 1), -1)\n",
    "    B[1:, 0] = 1.0\n",
    "    B = B + B.T\n",
    "    B = B * ssp.diags(1 / B.sum(axis=0).A.ravel())\n",
    "    return B\n",
    "\n",
    "\n",
    "n = 9\n",
    "B = init_B(n)\n",
    "\n",
    "print(B.todense())\n",
    "\n",
    "u = np.random.uniform(0, 1, n)\n",
    "v = np.zeros(n)\n",
    "\n",
    "l, u = power_iteration(matvec, B, u, v)\n",
    "np.testing.assert_almost_equal(l, 1)\n",
    "\n",
    "plt_sol(B, u)\n"
   ]
  },
  {
   "cell_type": "markdown",
   "metadata": {},
   "source": [
    "## Exercice 8\n",
    "\n",
    "- Rewrite a parallelized computation of a matrix/vector product exploiting the structure the matrix B in order to optimize the necessary MPI exchanges by drastically reducing their size.\n",
    "\n",
    "Find here a routine to generate the matrix B distributed along rows:"
   ]
  },
  {
   "cell_type": "code",
   "execution_count": 9,
   "metadata": {
    "tags": [
     "B-sparse-mpi"
    ]
   },
   "outputs": [],
   "source": [
    "def init_B_mpi(n, comm=MPI.COMM_WORLD):\n",
    "\n",
    "    size = comm.size\n",
    "    rank = comm.rank\n",
    "\n",
    "    Bglob = ssp.lil_matrix((n * size, n * size), dtype=np.float64)\n",
    "    Bglob.setdiag(np.ones(n * size - 1), -1)\n",
    "    Bglob[1:, 0] = 1.0\n",
    "    Bglob = Bglob + Bglob.T\n",
    "    Bglob = Bglob * ssp.diags(1 / Bglob.sum(axis=0).B.ravel())\n",
    "\n",
    "    if rank == 0:\n",
    "        B = ssp.lil_matrix((n, n * size), dtype=np.float64)\n",
    "        B = Bglob[0:n, :]\n",
    "        u = np.zeros(n * size)\n",
    "        start = 0\n",
    "        end = n\n",
    "    elif rank == size - 1:\n",
    "        B = ssp.lil_matrix((n, n + 2), dtype=np.float64)\n",
    "        B[:, 0] = Bglob[n * rank : n * rank + n, 0]\n",
    "        B[:, 1 : n + 2] = Bglob[n * rank : n * rank + n, n * rank - 1 : n * rank + n]\n",
    "        u = np.zeros(n + 2)\n",
    "        start = 2\n",
    "        end = n + 2\n",
    "    else:\n",
    "        B = ssp.lil_matrix((n, n + 3), dtype=np.float64)\n",
    "        B[:, 0] = Bglob[n * rank : n * rank + n, 0]\n",
    "        B[:, 1 : n + 3] = Bglob[\n",
    "            n * rank : n * rank + n, n * rank - 1 : n * rank + n + 1\n",
    "        ]\n",
    "        u = np.zeros(n + 3)\n",
    "        start = 2\n",
    "        end = n + 2\n",
    "\n",
    "    return B, u, start, end\n"
   ]
  }
 ],
 "metadata": {
  "kernelspec": {
   "display_name": "Python 3 (ipykernel)",
   "language": "python",
   "name": "python3"
  },
  "language_info": {
   "codemirror_mode": {
    "name": "ipython",
    "version": 3
   },
   "file_extension": ".py",
   "mimetype": "text/x-python",
   "name": "python",
   "nbconvert_exporter": "python",
   "pygments_lexer": "ipython3",
   "version": "3.9.9"
  }
 },
 "nbformat": 4,
 "nbformat_minor": 4
}
